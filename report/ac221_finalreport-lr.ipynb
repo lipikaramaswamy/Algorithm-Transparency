{
 "cells": [
  {
   "cell_type": "markdown",
   "metadata": {},
   "source": [
    "# Quantitative Input Influence\n",
    "## A study on COMPAS decile scores\n",
    "\n",
    "Karina Huang & Lipika Ramaswamy  \n",
    "AC221: Critical Thinking in Data Science  \n",
    "Spring 2019\n"
   ]
  },
  {
   "cell_type": "code",
   "execution_count": 18,
   "metadata": {},
   "outputs": [],
   "source": [
    "import pandas as pd\n",
    "import numpy as np\n",
    "import matplotlib.pyplot as plt"
   ]
  },
  {
   "cell_type": "markdown",
   "metadata": {
    "slideshow": {
     "slide_type": "slide"
    }
   },
   "source": [
    "## I. Introduction"
   ]
  },
  {
   "cell_type": "markdown",
   "metadata": {},
   "source": [
    "Responsible data science is necessary because of its impact on decision making. Consider the fairness of automated decision making in hiring and sentencing procedures. While fairness of algorithms remains debatable depending on how the term is defined, lack of interpretability in algorithms complicates the debate; if it remains unclear what comprises a decision, it will be difficult to compartmentalize what makes the decision fair or unfair. Therefore, it is necessary that an algorithm be presented as clearly as possible. Granting algorithmic transparency helps facilitate discussions on the fairness of model design and consequences.\n",
    "\n",
    "One approach to quantifying the interpretability of a model is the Quantitative Input Influence (QII) framework introduced by Datta et al. in their paper, [*Algorithmic Transparency via Quantitative Input Influence*](https://www.andrew.cmu.edu/user/danupam/datta-sen-zick-oakland16.pdf). These are causal measures that explain the influence of an input or a set of inputs on the decision made by machine learning algorithms. Transparency queries that use QII measures can be used to explain decisions about the classification outcome for an individual or a group. Specifically, for a quantity of infuence, *Q*, and an input feature, *i*, the QII of *i* on *Q* is the difference in *Q* when *i* is changed via intervention. In other words, we can replace features with random values from the population, and examine the distribution over outcomes for changes.\n",
    "\n",
    "We present findings on the influence of inputs on computing a   \n",
    ">>"
   ]
  },
  {
   "cell_type": "markdown",
   "metadata": {},
   "source": [
    "## II. Data"
   ]
  },
  {
   "cell_type": "markdown",
   "metadata": {},
   "source": [
    "To model the fairness of algorithms used to aid judges in sentencing decisions, we used [datasets](https://github.com/propublica/compas-analysis) made public by ProPublica, containing criminal history, jail and prison time, demographics and COMPAS risk scores for defendants from Broward County, FL.\n",
    "\n",
    "ProPublica included 3 datasets on their Github page. Due to a lack of documentation regarding how the data was cleaned (we found discrepancies in the their reported methods and the actual dataset), we examined each of the dataset and chose to use the dataset in `compas-scores-two-years.csv`. Below we report the preliminary characteristics of the dataset."
   ]
  },
  {
   "cell_type": "code",
   "execution_count": 23,
   "metadata": {},
   "outputs": [
    {
     "name": "stdout",
     "output_type": "stream",
     "text": [
      "The size of this dataset is (7214, 15)\n"
     ]
    },
    {
     "data": {
      "text/html": [
       "<div>\n",
       "<style scoped>\n",
       "    .dataframe tbody tr th:only-of-type {\n",
       "        vertical-align: middle;\n",
       "    }\n",
       "\n",
       "    .dataframe tbody tr th {\n",
       "        vertical-align: top;\n",
       "    }\n",
       "\n",
       "    .dataframe thead th {\n",
       "        text-align: right;\n",
       "    }\n",
       "</style>\n",
       "<table border=\"1\" class=\"dataframe\">\n",
       "  <thead>\n",
       "    <tr style=\"text-align: right;\">\n",
       "      <th></th>\n",
       "      <th>id</th>\n",
       "      <th>sex</th>\n",
       "      <th>age</th>\n",
       "      <th>race</th>\n",
       "      <th>juv_fel_count</th>\n",
       "      <th>juv_misd_count</th>\n",
       "      <th>juv_other_count</th>\n",
       "      <th>priors_count</th>\n",
       "      <th>decile_score</th>\n",
       "      <th>score_text</th>\n",
       "      <th>is_recid</th>\n",
       "      <th>v_decile_score</th>\n",
       "      <th>v_score_text</th>\n",
       "      <th>is_violent_recid</th>\n",
       "      <th>two_year_recid</th>\n",
       "    </tr>\n",
       "  </thead>\n",
       "  <tbody>\n",
       "    <tr>\n",
       "      <th>0</th>\n",
       "      <td>1</td>\n",
       "      <td>Male</td>\n",
       "      <td>69</td>\n",
       "      <td>Other</td>\n",
       "      <td>0</td>\n",
       "      <td>0</td>\n",
       "      <td>0</td>\n",
       "      <td>0</td>\n",
       "      <td>1</td>\n",
       "      <td>Low</td>\n",
       "      <td>0</td>\n",
       "      <td>1</td>\n",
       "      <td>Low</td>\n",
       "      <td>0</td>\n",
       "      <td>0</td>\n",
       "    </tr>\n",
       "    <tr>\n",
       "      <th>1</th>\n",
       "      <td>3</td>\n",
       "      <td>Male</td>\n",
       "      <td>34</td>\n",
       "      <td>African-American</td>\n",
       "      <td>0</td>\n",
       "      <td>0</td>\n",
       "      <td>0</td>\n",
       "      <td>0</td>\n",
       "      <td>3</td>\n",
       "      <td>Low</td>\n",
       "      <td>1</td>\n",
       "      <td>1</td>\n",
       "      <td>Low</td>\n",
       "      <td>1</td>\n",
       "      <td>1</td>\n",
       "    </tr>\n",
       "    <tr>\n",
       "      <th>2</th>\n",
       "      <td>4</td>\n",
       "      <td>Male</td>\n",
       "      <td>24</td>\n",
       "      <td>African-American</td>\n",
       "      <td>0</td>\n",
       "      <td>0</td>\n",
       "      <td>1</td>\n",
       "      <td>4</td>\n",
       "      <td>4</td>\n",
       "      <td>Low</td>\n",
       "      <td>1</td>\n",
       "      <td>3</td>\n",
       "      <td>Low</td>\n",
       "      <td>0</td>\n",
       "      <td>1</td>\n",
       "    </tr>\n",
       "    <tr>\n",
       "      <th>3</th>\n",
       "      <td>5</td>\n",
       "      <td>Male</td>\n",
       "      <td>23</td>\n",
       "      <td>African-American</td>\n",
       "      <td>0</td>\n",
       "      <td>1</td>\n",
       "      <td>0</td>\n",
       "      <td>1</td>\n",
       "      <td>8</td>\n",
       "      <td>High</td>\n",
       "      <td>0</td>\n",
       "      <td>6</td>\n",
       "      <td>Medium</td>\n",
       "      <td>0</td>\n",
       "      <td>0</td>\n",
       "    </tr>\n",
       "    <tr>\n",
       "      <th>4</th>\n",
       "      <td>6</td>\n",
       "      <td>Male</td>\n",
       "      <td>43</td>\n",
       "      <td>Other</td>\n",
       "      <td>0</td>\n",
       "      <td>0</td>\n",
       "      <td>0</td>\n",
       "      <td>2</td>\n",
       "      <td>1</td>\n",
       "      <td>Low</td>\n",
       "      <td>0</td>\n",
       "      <td>1</td>\n",
       "      <td>Low</td>\n",
       "      <td>0</td>\n",
       "      <td>0</td>\n",
       "    </tr>\n",
       "  </tbody>\n",
       "</table>\n",
       "</div>"
      ],
      "text/plain": [
       "   id   sex  age              race  juv_fel_count  juv_misd_count  \\\n",
       "0   1  Male   69             Other              0               0   \n",
       "1   3  Male   34  African-American              0               0   \n",
       "2   4  Male   24  African-American              0               0   \n",
       "3   5  Male   23  African-American              0               1   \n",
       "4   6  Male   43             Other              0               0   \n",
       "\n",
       "   juv_other_count  priors_count  decile_score score_text  is_recid  \\\n",
       "0                0             0             1        Low         0   \n",
       "1                0             0             3        Low         1   \n",
       "2                1             4             4        Low         1   \n",
       "3                0             1             8       High         0   \n",
       "4                0             2             1        Low         0   \n",
       "\n",
       "   v_decile_score v_score_text  is_violent_recid  two_year_recid  \n",
       "0               1          Low                 0               0  \n",
       "1               1          Low                 1               1  \n",
       "2               3          Low                 0               1  \n",
       "3               6       Medium                 0               0  \n",
       "4               1          Low                 0               0  "
      ]
     },
     "execution_count": 23,
     "metadata": {},
     "output_type": "execute_result"
    }
   ],
   "source": [
    "#load data\n",
    "data = pd.read_csv('../data/data_final.csv', index_col = ['Unnamed: 0'])\n",
    "#check dataset\n",
    "print('The size of this dataset is', data.shape)\n",
    "data.head()"
   ]
  },
  {
   "cell_type": "code",
   "execution_count": 14,
   "metadata": {},
   "outputs": [
    {
     "name": "stdout",
     "output_type": "stream",
     "text": [
      "Number of unique individuals in dataset:  7214\n",
      "Proportion female:  0.19\n",
      "Mean age:  34.82\n"
     ]
    }
   ],
   "source": [
    "#demographics\n",
    "print('Number of unique individuals in dataset: ', len(data.id.unique()))\n",
    "print('Proportion female: ', np.round(data.sex.value_counts()[1]/(data.sex.value_counts()[1]+data.sex.value_counts()[0]),2))\n",
    "print('Mean age: ', np.round(np.mean(data.age.values), 2))"
   ]
  },
  {
   "cell_type": "markdown",
   "metadata": {},
   "source": [
    ">**NOTE: MIGHT CONSIDER BALANCING CLASSES USING imblearn**"
   ]
  },
  {
   "cell_type": "code",
   "execution_count": 21,
   "metadata": {},
   "outputs": [
    {
     "data": {
      "text/plain": [
       "Low       4761\n",
       "Medium    1739\n",
       "High       714\n",
       "Name: v_score_text, dtype: int64"
      ]
     },
     "execution_count": 21,
     "metadata": {},
     "output_type": "execute_result"
    }
   ],
   "source": [
    "### MIGHT CONSIDER BALANCING CLASSES USING imblearn\n",
    "data.v_score_text.value_counts()"
   ]
  },
  {
   "cell_type": "code",
   "execution_count": 16,
   "metadata": {},
   "outputs": [
    {
     "data": {
      "text/plain": [
       "African-American    3696\n",
       "Caucasian           2454\n",
       "Hispanic             637\n",
       "Other                377\n",
       "Asian                 32\n",
       "Native American       18\n",
       "Name: race, dtype: int64"
      ]
     },
     "execution_count": 16,
     "metadata": {},
     "output_type": "execute_result"
    }
   ],
   "source": [
    "data.race.value_counts()"
   ]
  },
  {
   "cell_type": "markdown",
   "metadata": {},
   "source": [
    "> might consder making these percent of total"
   ]
  },
  {
   "cell_type": "code",
   "execution_count": 30,
   "metadata": {},
   "outputs": [
    {
     "data": {
      "image/png": "[encoded data removed]",
      "text/plain": [
       "<Figure size 1440x576 with 2 Axes>"
      ]
     },
     "metadata": {
      "needs_background": "light"
     },
     "output_type": "display_data"
    }
   ],
   "source": [
    "#general decile score by race and sex\n",
    "genDR = data.groupby(['decile_score', 'race']).agg({\n",
    "    'id': len\n",
    "}).unstack()\n",
    "\n",
    "genDS = data.groupby(['decile_score', 'sex']).agg({\n",
    "    'id': len\n",
    "}).unstack()\n",
    "\n",
    "#visualize demographics\n",
    "dfs = [genDR, genDS]\n",
    "labels = ['Race', 'Gender']\n",
    "fig, axes = plt.subplots(1, 2, figsize = (20, 8))\n",
    "for i, ax in enumerate(axes.flat):\n",
    "    dfs[i].plot(ax = ax, kind = 'bar')\n",
    "    ax.set_xticklabels(labels = dfs[i].index, rotation = 360, fontsize = 15)\n",
    "    ax.set_xlabel('General Decile Scores', fontsize = 20)\n",
    "    ax.set_ylabel('Count', fontsize = 20)\n",
    "    ax.legend(list(dfs[i].columns.levels[1]), fontsize = 15)\n",
    "    ax.set_title('General Decile Score by '+labels[i], fontsize = 25)\n",
    "plt.show()"
   ]
  },
  {
   "cell_type": "markdown",
   "metadata": {},
   "source": [
    "## III. Methodology"
   ]
  },
  {
   "cell_type": "markdown",
   "metadata": {},
   "source": [
    "Given a black-box algorithm, $A$, we first define a quantity of interest, $Q$, which represents a property of the behavior of the algorithm for a given input distribution. $A$ operates on inputs or features, $i$, and every $i$ has a set of possible states it can take on, and $\\mathbf{x}\\in X$ is any vector representing a row the dataset that is drawn from the true *underlying* distribution represented by the random variable $X$. In the particular problem explored here, an example of an algorithm is Logistic Regression and an example of a feature is `race`, which can take on the following states: African-American, Caucasian, Hispanic, Asian, Native American and Other.\n",
    "\n",
    "Formally, for a quantity of interest $Q_A(\\cdot)$ and an input $i$, the Quantitative Input Influence of $i$ on $Q_A(\\cdot)$ is defined as:\n",
    "$$ \\iota^{Q_A} = Q_A (X) - Q_A(X_{-i} U_i),$$\n",
    "where the random variable $X_{-i}U_i$ represents the random variable with input $i$ replaced with a random sample, and represents the *intervened* distribution.\n",
    "\n",
    "#### Unary QII\n",
    "1. QII for individual outcomes:\n",
    "    \n",
    "    **One use of QII is to provide individuals with information on a particular classification outcome**. In order to quantify the use of an input for individual outcomes, we define the quantity of interest to be the classification outcome, $c$, for a particular individual, $\\mathbf{x}$, given by $Q_{ind}^{\\mathbf{x}} (\\cdot) = \\mathbb{E}(c(\\cdot) = 1 | X = \\mathbf{x})$. We can define the QII as: \n",
    "    $$ \\iota^{\\mathbf{x}}_{ind} =\\mathbb{E}(c(X) = 1 | X = \\mathbf{x}) - \\mathbb{E}(c(X_{-i}U_i) = 1 | X = \\mathbf{x})$$\n",
    "    \n",
    "   In our specific application, we are interested in the probability that a given feature is pivotal to the classification of an individual. We define this mathematically as:\n",
    "   $$ \\sum_{\\mathbf{x}\\in X}Pr(X=\\mathbf{x}) \\cdot \\mathbb{E}(i\\text{ is pivotal for }c(X)|X=\\mathbf{x}) = \\mathbb{E}(i\\text{ is pivotal for }c(X))$$\n",
    "    \n",
    "2. QII for group disparity:\n",
    "\n",
    "    **QII on group disparity denotes the association between classification outcomes and membership in a group.** In this case, the quantity of interest is the difference of postive classification outcomes between a given group and all others.\n",
    "    $$Q_{disp}^\\mathcal{Y} (\\cdot)  = | \\mathbb{E}(c(\\cdot) = 1 | X \\in \\mathcal{Y}) -  \\mathbb{E}(c(\\cdot) = 1 | X \\notin \\mathcal{Y})|$$\n",
    "    \n",
    "    We can thus define the QII as: \n",
    "    $$\\iota_{disp}^{\\mathcal{Y}}(i) = Q_{disp}^{\\mathcal{Y}} (X) - Q_{disp}^{\\mathcal{Y}} (X_{-i}U_i)$$\n",
    "    \n",
    " \n",
    "#### Set and Marginal QII\n",
    "\n",
    "In the overwhelming majority of real datasets, it is impossible to look at the *individual* influence of one feature on an outcome, as it is likely correlated with other features that were included in the decision making process. Thus, if we intervene on only one feature, changes to the outcome will be less likely, as the features correlated with it will still capture some of the feature in question's impact. So if we intervene on sets of features including a given feature, we may get a better understanding of the influence of the input by looking at its marginal influence.\n",
    "\n",
    "For a quantity of interest, $Q$, and an input $i$, the QII of input $i$ over a set $S\\subseteq N$ on $Q$ is defined to be\n",
    "$$\\iota^Q(i,S) = Q(X_{-S}U_{S}) - Q(X_{-S\\cup\\{i\\}}U_{S\\cup\\{i\\}}).$$ It is clear from the equation that the marginal QII of $i$ is the additional value in transparency achieved by including $i$ in a subset of features.\n",
    "\n",
    "The marginal contribution of $i$ can vary depending on which set $S$ is considered, so we report the aggregate marginal contribution of $i$ to $S$, where S is sampled from some distribution over subsets of features. We use the Shapley value as a measure of this aggregate marginal contribution."
   ]
  },
  {
   "cell_type": "markdown",
   "metadata": {},
   "source": [
    "## IV. Evaluation and Results"
   ]
  },
  {
   "cell_type": "markdown",
   "metadata": {},
   "source": [
    "### Write about "
   ]
  },
  {
   "cell_type": "code",
   "execution_count": null,
   "metadata": {},
   "outputs": [],
   "source": []
  }
 ],
 "metadata": {
  "celltoolbar": "Edit Metadata",
  "kernelspec": {
   "display_name": "Python 3",
   "language": "python",
   "name": "python3"
  },
  "language_info": {
   "codemirror_mode": {
    "name": "ipython",
    "version": 3
   },
   "file_extension": ".py",
   "mimetype": "text/x-python",
   "name": "python",
   "nbconvert_exporter": "python",
   "pygments_lexer": "ipython3",
   "version": "3.6.7"
  }
 },
 "nbformat": 4,
 "nbformat_minor": 2
}
