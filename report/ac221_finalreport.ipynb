{
 "cells": [
  {
   "cell_type": "markdown",
   "metadata": {},
   "source": [
    "<h1><center>Quantitative Input Influence</center></h1>\n",
    "<h2><center> A study on influence of inputs on automated recidivism decisions</center></h2>\n",
    "<center>Karina Huang, Lipika Ramaswamy  </center>\n",
    "<center>AC221: Critical Thinking in Data Science </center>\n",
    "<center>Spring 2019</center>"
   ]
  },
  {
   "cell_type": "code",
   "execution_count": 2,
   "metadata": {},
   "outputs": [],
   "source": [
    "#import packages\n",
    "import pandas as pd\n",
    "import numpy as np\n",
    "import matplotlib.pyplot as plt"
   ]
  },
  {
   "cell_type": "markdown",
   "metadata": {
    "slideshow": {
     "slide_type": "slide"
    }
   },
   "source": [
    "## I. Introduction"
   ]
  },
  {
   "cell_type": "markdown",
   "metadata": {},
   "source": [
    "Responsible data science is necessary because of its impact on decision making. Consider the fairness of automated decision making in hiring and sentencing procedures. While fairness of algorithms remains debatable depending on how the term is defined, lack of interpretability in algorithms complicates the debate; if it remains unclear what contributes to a decision, it will be difficult to compartmentalize what makes the decision fair or unfair. Therefore, it is necessary that an algorithm be presented as clearly as possible. Granting algorithmic transparency helps facilitate discussions on the fairness of model design and consequences.\n",
    "\n",
    "One approach to quantifying the interpretability of a model is the Quantitative Input Influence (QII) framework introduced by Datta et al. in their paper, *Algorithmic Transparency via Quantitative Input Influence*. These are causal measures that explain the influence of an input or a set of inputs on the decision made by machine learning algorithms. Transparency queries that use QII measures can be used to explain decisions about the classification outcome for an individual or a group. Specifically, for a quantity of infuence, *Q*, and an input feature, *i*, the QII of *i* on *Q* is the difference in *Q* when *i* is changed via intervention. In other words, we can replace features with random values from the population, and examine the distribution over outcomes for changes.\n",
    "\n",
    "In this study, we examined the QII framework using the [COMPAS dataset](https://github.com/propublica/compas-analysis). ProPublica has previous published a [study](https://www.propublica.org/article/how-we-analyzed-the-compas-recidivism-algorithm) presenting the scoring system as biased against African American individuals. Our objectives were to evaluate the validity of such claims by:\n",
    "\n",
    "* examining the average importance of individual attributes on individual outcomes in modeling the COMPAS decile score categories (low, medium, high)\n",
    "* comparing the QII outcomes on group disparity, with respect to the probability of being predicted in a decile score category\n",
    "* investigating marginal influence of attributes on individuals in the dataset through transparency reports"
   ]
  },
  {
   "cell_type": "markdown",
   "metadata": {},
   "source": [
    "## II. Data"
   ]
  },
  {
   "cell_type": "markdown",
   "metadata": {},
   "source": [
    "ProPublica included 3 datasets on their Github page. Due to a lack of documentation regarding how the data was cleaned (we found discrepancies in the their reported methods and the actual dataset), we examined each of the dataset and chose to use the dataset in `compas-scores-two-years.csv`. Below we report the preliminary characteristics of the dataset."
   ]
  },
  {
   "cell_type": "code",
   "execution_count": 3,
   "metadata": {},
   "outputs": [
    {
     "name": "stdout",
     "output_type": "stream",
     "text": [
      "The size of this dataset is (7214, 15)\n"
     ]
    },
    {
     "data": {
      "text/html": [
       "<div>\n",
       "<style scoped>\n",
       "    .dataframe tbody tr th:only-of-type {\n",
       "        vertical-align: middle;\n",
       "    }\n",
       "\n",
       "    .dataframe tbody tr th {\n",
       "        vertical-align: top;\n",
       "    }\n",
       "\n",
       "    .dataframe thead th {\n",
       "        text-align: right;\n",
       "    }\n",
       "</style>\n",
       "<table border=\"1\" class=\"dataframe\">\n",
       "  <thead>\n",
       "    <tr style=\"text-align: right;\">\n",
       "      <th></th>\n",
       "      <th>id</th>\n",
       "      <th>sex</th>\n",
       "      <th>age</th>\n",
       "      <th>race</th>\n",
       "      <th>juv_fel_count</th>\n",
       "      <th>juv_misd_count</th>\n",
       "      <th>juv_other_count</th>\n",
       "      <th>priors_count</th>\n",
       "      <th>decile_score</th>\n",
       "      <th>score_text</th>\n",
       "      <th>is_recid</th>\n",
       "      <th>v_decile_score</th>\n",
       "      <th>v_score_text</th>\n",
       "      <th>is_violent_recid</th>\n",
       "      <th>two_year_recid</th>\n",
       "    </tr>\n",
       "  </thead>\n",
       "  <tbody>\n",
       "    <tr>\n",
       "      <th>0</th>\n",
       "      <td>1</td>\n",
       "      <td>Male</td>\n",
       "      <td>69</td>\n",
       "      <td>Other</td>\n",
       "      <td>0</td>\n",
       "      <td>0</td>\n",
       "      <td>0</td>\n",
       "      <td>0</td>\n",
       "      <td>1</td>\n",
       "      <td>Low</td>\n",
       "      <td>0</td>\n",
       "      <td>1</td>\n",
       "      <td>Low</td>\n",
       "      <td>0</td>\n",
       "      <td>0</td>\n",
       "    </tr>\n",
       "    <tr>\n",
       "      <th>1</th>\n",
       "      <td>3</td>\n",
       "      <td>Male</td>\n",
       "      <td>34</td>\n",
       "      <td>African-American</td>\n",
       "      <td>0</td>\n",
       "      <td>0</td>\n",
       "      <td>0</td>\n",
       "      <td>0</td>\n",
       "      <td>3</td>\n",
       "      <td>Low</td>\n",
       "      <td>1</td>\n",
       "      <td>1</td>\n",
       "      <td>Low</td>\n",
       "      <td>1</td>\n",
       "      <td>1</td>\n",
       "    </tr>\n",
       "    <tr>\n",
       "      <th>2</th>\n",
       "      <td>4</td>\n",
       "      <td>Male</td>\n",
       "      <td>24</td>\n",
       "      <td>African-American</td>\n",
       "      <td>0</td>\n",
       "      <td>0</td>\n",
       "      <td>1</td>\n",
       "      <td>4</td>\n",
       "      <td>4</td>\n",
       "      <td>Low</td>\n",
       "      <td>1</td>\n",
       "      <td>3</td>\n",
       "      <td>Low</td>\n",
       "      <td>0</td>\n",
       "      <td>1</td>\n",
       "    </tr>\n",
       "    <tr>\n",
       "      <th>3</th>\n",
       "      <td>5</td>\n",
       "      <td>Male</td>\n",
       "      <td>23</td>\n",
       "      <td>African-American</td>\n",
       "      <td>0</td>\n",
       "      <td>1</td>\n",
       "      <td>0</td>\n",
       "      <td>1</td>\n",
       "      <td>8</td>\n",
       "      <td>High</td>\n",
       "      <td>0</td>\n",
       "      <td>6</td>\n",
       "      <td>Medium</td>\n",
       "      <td>0</td>\n",
       "      <td>0</td>\n",
       "    </tr>\n",
       "    <tr>\n",
       "      <th>4</th>\n",
       "      <td>6</td>\n",
       "      <td>Male</td>\n",
       "      <td>43</td>\n",
       "      <td>Other</td>\n",
       "      <td>0</td>\n",
       "      <td>0</td>\n",
       "      <td>0</td>\n",
       "      <td>2</td>\n",
       "      <td>1</td>\n",
       "      <td>Low</td>\n",
       "      <td>0</td>\n",
       "      <td>1</td>\n",
       "      <td>Low</td>\n",
       "      <td>0</td>\n",
       "      <td>0</td>\n",
       "    </tr>\n",
       "  </tbody>\n",
       "</table>\n",
       "</div>"
      ],
      "text/plain": [
       "   id   sex  age              race  juv_fel_count  juv_misd_count  \\\n",
       "0   1  Male   69             Other              0               0   \n",
       "1   3  Male   34  African-American              0               0   \n",
       "2   4  Male   24  African-American              0               0   \n",
       "3   5  Male   23  African-American              0               1   \n",
       "4   6  Male   43             Other              0               0   \n",
       "\n",
       "   juv_other_count  priors_count  decile_score score_text  is_recid  \\\n",
       "0                0             0             1        Low         0   \n",
       "1                0             0             3        Low         1   \n",
       "2                1             4             4        Low         1   \n",
       "3                0             1             8       High         0   \n",
       "4                0             2             1        Low         0   \n",
       "\n",
       "   v_decile_score v_score_text  is_violent_recid  two_year_recid  \n",
       "0               1          Low                 0               0  \n",
       "1               1          Low                 1               1  \n",
       "2               3          Low                 0               1  \n",
       "3               6       Medium                 0               0  \n",
       "4               1          Low                 0               0  "
      ]
     },
     "execution_count": 3,
     "metadata": {},
     "output_type": "execute_result"
    }
   ],
   "source": [
    "#load data\n",
    "data = pd.read_csv('../data/data_final.csv', index_col = ['Unnamed: 0'])\n",
    "#check dataset\n",
    "print('The size of this dataset is', data.shape)\n",
    "data.head()"
   ]
  },
  {
   "cell_type": "code",
   "execution_count": 4,
   "metadata": {},
   "outputs": [
    {
     "name": "stdout",
     "output_type": "stream",
     "text": [
      "Number of unique individuals in dataset:  7214\n",
      "Proportion female:  0.19\n",
      "Mean age:  34.82\n"
     ]
    }
   ],
   "source": [
    "#demographics\n",
    "print('Number of unique individuals in dataset: ', len(data.id.unique()))\n",
    "print('Proportion female: ', np.round(data.sex.value_counts()[1]/(data.sex.value_counts()[1]+data.sex.value_counts()[0]),2))\n",
    "print('Mean age: ', np.round(np.mean(data.age.values), 2))"
   ]
  },
  {
   "cell_type": "code",
   "execution_count": 5,
   "metadata": {},
   "outputs": [
    {
     "data": {
      "text/plain": [
       "Low       4761\n",
       "Medium    1739\n",
       "High       714\n",
       "Name: v_score_text, dtype: int64"
      ]
     },
     "execution_count": 5,
     "metadata": {},
     "output_type": "execute_result"
    }
   ],
   "source": [
    "#check counts by violence decile score categories \n",
    "data.v_score_text.value_counts()"
   ]
  },
  {
   "cell_type": "code",
   "execution_count": 23,
   "metadata": {},
   "outputs": [
    {
     "data": {
      "text/plain": [
       "African-American    3696\n",
       "Caucasian           2454\n",
       "Hispanic             637\n",
       "Other                377\n",
       "Asian                 32\n",
       "Native American       18\n",
       "Name: race, dtype: int64"
      ]
     },
     "execution_count": 23,
     "metadata": {},
     "output_type": "execute_result"
    }
   ],
   "source": [
    "#check counts by race\n",
    "data.race.value_counts()"
   ]
  },
  {
   "cell_type": "code",
   "execution_count": 22,
   "metadata": {},
   "outputs": [
    {
     "data": {
      "text/html": [
       "<div>\n",
       "<style scoped>\n",
       "    .dataframe tbody tr th:only-of-type {\n",
       "        vertical-align: middle;\n",
       "    }\n",
       "\n",
       "    .dataframe tbody tr th {\n",
       "        vertical-align: top;\n",
       "    }\n",
       "\n",
       "    .dataframe thead th {\n",
       "        text-align: right;\n",
       "    }\n",
       "</style>\n",
       "<table border=\"1\" class=\"dataframe\">\n",
       "  <thead>\n",
       "    <tr style=\"text-align: right;\">\n",
       "      <th></th>\n",
       "      <th>race</th>\n",
       "    </tr>\n",
       "  </thead>\n",
       "  <tbody>\n",
       "    <tr>\n",
       "      <th>African-American</th>\n",
       "      <td>3696</td>\n",
       "    </tr>\n",
       "    <tr>\n",
       "      <th>Caucasian</th>\n",
       "      <td>2454</td>\n",
       "    </tr>\n",
       "    <tr>\n",
       "      <th>Hispanic</th>\n",
       "      <td>637</td>\n",
       "    </tr>\n",
       "    <tr>\n",
       "      <th>Other</th>\n",
       "      <td>377</td>\n",
       "    </tr>\n",
       "    <tr>\n",
       "      <th>Asian</th>\n",
       "      <td>32</td>\n",
       "    </tr>\n",
       "    <tr>\n",
       "      <th>Native American</th>\n",
       "      <td>18</td>\n",
       "    </tr>\n",
       "  </tbody>\n",
       "</table>\n",
       "</div>"
      ],
      "text/plain": [
       "                  race\n",
       "African-American  3696\n",
       "Caucasian         2454\n",
       "Hispanic           637\n",
       "Other              377\n",
       "Asian               32\n",
       "Native American     18"
      ]
     },
     "execution_count": 22,
     "metadata": {},
     "output_type": "execute_result"
    }
   ],
   "source": [
    "check"
   ]
  },
  {
   "cell_type": "code",
   "execution_count": 26,
   "metadata": {},
   "outputs": [],
   "source": [
    "violDR = data.groupby(['v_decile_score', 'race']).agg({'id': len}).unstack()"
   ]
  },
  {
   "cell_type": "code",
   "execution_count": 36,
   "metadata": {},
   "outputs": [
    {
     "data": {
      "text/html": [
       "<div>\n",
       "<style scoped>\n",
       "    .dataframe tbody tr th:only-of-type {\n",
       "        vertical-align: middle;\n",
       "    }\n",
       "\n",
       "    .dataframe tbody tr th {\n",
       "        vertical-align: top;\n",
       "    }\n",
       "\n",
       "    .dataframe thead tr th {\n",
       "        text-align: left;\n",
       "    }\n",
       "\n",
       "    .dataframe thead tr:last-of-type th {\n",
       "        text-align: right;\n",
       "    }\n",
       "</style>\n",
       "<table border=\"1\" class=\"dataframe\">\n",
       "  <thead>\n",
       "    <tr>\n",
       "      <th></th>\n",
       "      <th colspan=\"6\" halign=\"left\">id</th>\n",
       "      <th>AfricanAmericanpct</th>\n",
       "      <th>Asianpct</th>\n",
       "      <th>Caucasianpct</th>\n",
       "      <th>Hispanicpct</th>\n",
       "      <th>NativeAmericanpct</th>\n",
       "      <th>Otherpct</th>\n",
       "    </tr>\n",
       "    <tr>\n",
       "      <th>race</th>\n",
       "      <th>African-American</th>\n",
       "      <th>Asian</th>\n",
       "      <th>Caucasian</th>\n",
       "      <th>Hispanic</th>\n",
       "      <th>Native American</th>\n",
       "      <th>Other</th>\n",
       "      <th></th>\n",
       "      <th></th>\n",
       "      <th></th>\n",
       "      <th></th>\n",
       "      <th></th>\n",
       "      <th></th>\n",
       "    </tr>\n",
       "    <tr>\n",
       "      <th>v_decile_score</th>\n",
       "      <th></th>\n",
       "      <th></th>\n",
       "      <th></th>\n",
       "      <th></th>\n",
       "      <th></th>\n",
       "      <th></th>\n",
       "      <th></th>\n",
       "      <th></th>\n",
       "      <th></th>\n",
       "      <th></th>\n",
       "      <th></th>\n",
       "      <th></th>\n",
       "    </tr>\n",
       "  </thead>\n",
       "  <tbody>\n",
       "    <tr>\n",
       "      <th>1</th>\n",
       "      <td>579.0</td>\n",
       "      <td>17.0</td>\n",
       "      <td>922.0</td>\n",
       "      <td>238.0</td>\n",
       "      <td>3.0</td>\n",
       "      <td>152.0</td>\n",
       "      <td>0.156656</td>\n",
       "      <td>0.53125</td>\n",
       "      <td>0.375713</td>\n",
       "      <td>0.373626</td>\n",
       "      <td>0.166667</td>\n",
       "      <td>0.403183</td>\n",
       "    </tr>\n",
       "    <tr>\n",
       "      <th>2</th>\n",
       "      <td>501.0</td>\n",
       "      <td>4.0</td>\n",
       "      <td>394.0</td>\n",
       "      <td>105.0</td>\n",
       "      <td>2.0</td>\n",
       "      <td>67.0</td>\n",
       "      <td>0.135552</td>\n",
       "      <td>0.12500</td>\n",
       "      <td>0.160554</td>\n",
       "      <td>0.164835</td>\n",
       "      <td>0.111111</td>\n",
       "      <td>0.177719</td>\n",
       "    </tr>\n",
       "    <tr>\n",
       "      <th>3</th>\n",
       "      <td>503.0</td>\n",
       "      <td>1.0</td>\n",
       "      <td>351.0</td>\n",
       "      <td>81.0</td>\n",
       "      <td>1.0</td>\n",
       "      <td>42.0</td>\n",
       "      <td>0.136093</td>\n",
       "      <td>0.03125</td>\n",
       "      <td>0.143032</td>\n",
       "      <td>0.127159</td>\n",
       "      <td>0.055556</td>\n",
       "      <td>0.111406</td>\n",
       "    </tr>\n",
       "    <tr>\n",
       "      <th>4</th>\n",
       "      <td>457.0</td>\n",
       "      <td>5.0</td>\n",
       "      <td>244.0</td>\n",
       "      <td>52.0</td>\n",
       "      <td>4.0</td>\n",
       "      <td>36.0</td>\n",
       "      <td>0.123647</td>\n",
       "      <td>0.15625</td>\n",
       "      <td>0.099430</td>\n",
       "      <td>0.081633</td>\n",
       "      <td>0.222222</td>\n",
       "      <td>0.095491</td>\n",
       "    </tr>\n",
       "    <tr>\n",
       "      <th>5</th>\n",
       "      <td>415.0</td>\n",
       "      <td>2.0</td>\n",
       "      <td>187.0</td>\n",
       "      <td>58.0</td>\n",
       "      <td>2.0</td>\n",
       "      <td>25.0</td>\n",
       "      <td>0.112284</td>\n",
       "      <td>0.06250</td>\n",
       "      <td>0.076202</td>\n",
       "      <td>0.091052</td>\n",
       "      <td>0.111111</td>\n",
       "      <td>0.066313</td>\n",
       "    </tr>\n",
       "    <tr>\n",
       "      <th>6</th>\n",
       "      <td>386.0</td>\n",
       "      <td>2.0</td>\n",
       "      <td>144.0</td>\n",
       "      <td>42.0</td>\n",
       "      <td>1.0</td>\n",
       "      <td>23.0</td>\n",
       "      <td>0.104437</td>\n",
       "      <td>0.06250</td>\n",
       "      <td>0.058680</td>\n",
       "      <td>0.065934</td>\n",
       "      <td>0.055556</td>\n",
       "      <td>0.061008</td>\n",
       "    </tr>\n",
       "    <tr>\n",
       "      <th>7</th>\n",
       "      <td>323.0</td>\n",
       "      <td>NaN</td>\n",
       "      <td>90.0</td>\n",
       "      <td>23.0</td>\n",
       "      <td>2.0</td>\n",
       "      <td>14.0</td>\n",
       "      <td>0.087392</td>\n",
       "      <td>NaN</td>\n",
       "      <td>0.036675</td>\n",
       "      <td>0.036107</td>\n",
       "      <td>0.111111</td>\n",
       "      <td>0.037135</td>\n",
       "    </tr>\n",
       "    <tr>\n",
       "      <th>8</th>\n",
       "      <td>222.0</td>\n",
       "      <td>1.0</td>\n",
       "      <td>51.0</td>\n",
       "      <td>17.0</td>\n",
       "      <td>NaN</td>\n",
       "      <td>9.0</td>\n",
       "      <td>0.060065</td>\n",
       "      <td>0.03125</td>\n",
       "      <td>0.020782</td>\n",
       "      <td>0.026688</td>\n",
       "      <td>NaN</td>\n",
       "      <td>0.023873</td>\n",
       "    </tr>\n",
       "    <tr>\n",
       "      <th>9</th>\n",
       "      <td>216.0</td>\n",
       "      <td>NaN</td>\n",
       "      <td>50.0</td>\n",
       "      <td>15.0</td>\n",
       "      <td>3.0</td>\n",
       "      <td>6.0</td>\n",
       "      <td>0.058442</td>\n",
       "      <td>NaN</td>\n",
       "      <td>0.020375</td>\n",
       "      <td>0.023548</td>\n",
       "      <td>0.166667</td>\n",
       "      <td>0.015915</td>\n",
       "    </tr>\n",
       "    <tr>\n",
       "      <th>10</th>\n",
       "      <td>94.0</td>\n",
       "      <td>NaN</td>\n",
       "      <td>21.0</td>\n",
       "      <td>6.0</td>\n",
       "      <td>NaN</td>\n",
       "      <td>3.0</td>\n",
       "      <td>0.025433</td>\n",
       "      <td>NaN</td>\n",
       "      <td>0.008557</td>\n",
       "      <td>0.009419</td>\n",
       "      <td>NaN</td>\n",
       "      <td>0.007958</td>\n",
       "    </tr>\n",
       "  </tbody>\n",
       "</table>\n",
       "</div>"
      ],
      "text/plain": [
       "                             id                                           \\\n",
       "race           African-American Asian Caucasian Hispanic Native American   \n",
       "v_decile_score                                                             \n",
       "1                         579.0  17.0     922.0    238.0             3.0   \n",
       "2                         501.0   4.0     394.0    105.0             2.0   \n",
       "3                         503.0   1.0     351.0     81.0             1.0   \n",
       "4                         457.0   5.0     244.0     52.0             4.0   \n",
       "5                         415.0   2.0     187.0     58.0             2.0   \n",
       "6                         386.0   2.0     144.0     42.0             1.0   \n",
       "7                         323.0   NaN      90.0     23.0             2.0   \n",
       "8                         222.0   1.0      51.0     17.0             NaN   \n",
       "9                         216.0   NaN      50.0     15.0             3.0   \n",
       "10                         94.0   NaN      21.0      6.0             NaN   \n",
       "\n",
       "                      AfricanAmericanpct Asianpct Caucasianpct Hispanicpct  \\\n",
       "race            Other                                                        \n",
       "v_decile_score                                                               \n",
       "1               152.0           0.156656  0.53125     0.375713    0.373626   \n",
       "2                67.0           0.135552  0.12500     0.160554    0.164835   \n",
       "3                42.0           0.136093  0.03125     0.143032    0.127159   \n",
       "4                36.0           0.123647  0.15625     0.099430    0.081633   \n",
       "5                25.0           0.112284  0.06250     0.076202    0.091052   \n",
       "6                23.0           0.104437  0.06250     0.058680    0.065934   \n",
       "7                14.0           0.087392      NaN     0.036675    0.036107   \n",
       "8                 9.0           0.060065  0.03125     0.020782    0.026688   \n",
       "9                 6.0           0.058442      NaN     0.020375    0.023548   \n",
       "10                3.0           0.025433      NaN     0.008557    0.009419   \n",
       "\n",
       "               NativeAmericanpct  Otherpct  \n",
       "race                                        \n",
       "v_decile_score                              \n",
       "1                       0.166667  0.403183  \n",
       "2                       0.111111  0.177719  \n",
       "3                       0.055556  0.111406  \n",
       "4                       0.222222  0.095491  \n",
       "5                       0.111111  0.066313  \n",
       "6                       0.055556  0.061008  \n",
       "7                       0.111111  0.037135  \n",
       "8                            NaN  0.023873  \n",
       "9                       0.166667  0.015915  \n",
       "10                           NaN  0.007958  "
      ]
     },
     "execution_count": 36,
     "metadata": {},
     "output_type": "execute_result"
    }
   ],
   "source": [
    "violDR"
   ]
  },
  {
   "cell_type": "code",
   "execution_count": 35,
   "metadata": {},
   "outputs": [],
   "source": [
    "violDR['AfricanAmericanpct'] = violDR['id','African-American']/violDR['id','African-American'].sum()\n",
    "violDR['Asianpct'] = violDR['id','Asian']/violDR['id','Asian'].sum()\n",
    "violDR['Caucasianpct'] = violDR['id','Caucasian']/violDR['id','Caucasian'].sum()\n",
    "violDR['Hispanicpct'] = violDR['id','Hispanic']/violDR['id','Hispanic'].sum()\n",
    "violDR['NativeAmericanpct'] = violDR['id','Native American']/violDR['id','Native American'].sum()\n",
    "violDR['Otherpct'] = violDR['id','Other']/violDR['id','Other'].sum()\n"
   ]
  },
  {
   "cell_type": "code",
   "execution_count": 10,
   "metadata": {},
   "outputs": [
    {
     "data": {
      "image/png": "[encoded data removed]",
      "text/plain": [
       "<Figure size 1440x576 with 2 Axes>"
      ]
     },
     "metadata": {
      "needs_background": "light"
     },
     "output_type": "display_data"
    }
   ],
   "source": [
    "#visualization\n",
    "#violence decile score by race and sex\n",
    "violDR = data.groupby(['v_decile_score', 'race']).agg({'id': len}).unstack()\n",
    "violDS = data.groupby(['v_decile_score', 'sex']).agg({'id': len}).unstack()\n",
    "#visualize demographics\n",
    "dfs = [violDR, violDS]\n",
    "labels = ['Race', 'Gender']\n",
    "fig, axes = plt.subplots(1, 2, figsize = (20, 8))\n",
    "for i, ax in enumerate(axes.flat):\n",
    "    dfs[i].plot(ax = ax, kind = 'bar')\n",
    "    ax.set_xticklabels(labels = dfs[i].index, rotation = 360, fontsize = 15)\n",
    "    ax.set_xlabel('Violent Decile Scores', fontsize = 20)\n",
    "    ax.set_ylabel('Count', fontsize = 20)\n",
    "    ax.legend(list(dfs[i].columns.levels[1]), fontsize = 15)\n",
    "    ax.set_title('Violent Decile Score by '+labels[i], fontsize = 25)\n",
    "plt.show()"
   ]
  },
  {
   "cell_type": "markdown",
   "metadata": {},
   "source": [
    "## III. Methodology"
   ]
  },
  {
   "cell_type": "markdown",
   "metadata": {},
   "source": [
    "### Models\n",
    "\n",
    "Using ProPublica's data, we model the violence decile categorization (low, medium, high) of an individual using their other attributes, including age, juvenile misdemeanor count, priors count, sex and race. The goal here is to reconstruct COMPAS assignments to violence decile categorization given that it is a blackbox algorithm. Effectively, we are trying to reconstruct a blackbox algorithm to use the framework described below. Note that we used violence decile categorization instead of numeric scores visualized above to closely mirror ProPublica's approach. Given the classification task at hand, we chose to employ Logistic Regression, a Support Vector Machine and a Decision Tree for this reconstruction."
   ]
  },
  {
   "cell_type": "markdown",
   "metadata": {},
   "source": [
    "### Quantitative Input Influence \n",
    "Given a black-box algorithm, $A$, we first define a quantity of interest, $Q$, which represents a property of the behavior of the algorithm for a given input distribution. $A$ operates on inputs or features, $i$, and every $i$ has a set of possible states it can take on, and $\\mathbf{x}\\in X$ is any vector representing a row the dataset that is drawn from the true *underlying* distribution represented by the random variable $X$. In the particular problem explored here, an example of an algorithm is Logistic Regression and an example of a feature is `race`, which can take on the following states: African-American, Caucasian, Hispanic, Asian, Native American and Other.\n",
    "\n",
    "Formally, for a quantity of interest $Q_A(\\cdot)$ and an input $i$, the Quantitative Input Influence of $i$ on $Q_A(\\cdot)$ is defined as:\n",
    "$$ \\iota^{Q_A} = Q_A (X) - Q_A(X_{-i} U_i),$$\n",
    "where the random variable $X_{-i}U_i$ represents the random variable with input $i$ replaced with a random sample, and represents the *intervened* distribution.\n",
    "\n",
    "#### Unary QII\n",
    "1. QII for individual outcomes:\n",
    "    \n",
    "    **One use of QII is to provide individuals with information on a particular classification outcome**. In order to quantify the use of an input for individual outcomes, we define the quantity of interest to be the classification outcome, $c$, for a particular individual, $\\mathbf{x}$, given by $Q_{ind}^{\\mathbf{x}} (\\cdot) = \\mathbb{E}(c(\\cdot) = 1 | X = \\mathbf{x})$. We can define the QII as: \n",
    "    $$ \\iota^{\\mathbf{x}}_{ind} =\\mathbb{E}(c(X) = 1 | X = \\mathbf{x}) - \\mathbb{E}(c(X_{-i}U_i) = 1 | X = \\mathbf{x})$$\n",
    "    \n",
    "   In our specific application, we are interested in the probability that a given feature is pivotal to the classification of an individual. We define this mathematically as:\n",
    "   $$ \\sum_{\\mathbf{x}\\in X}Pr(X=\\mathbf{x}) \\cdot \\mathbb{E}(i\\text{ is pivotal for }c(X)|X=\\mathbf{x}) = \\mathbb{E}(i\\text{ is pivotal for }c(X))$$\n",
    "    \n",
    "2. QII for group disparity:\n",
    "\n",
    "    **QII on group disparity denotes the association between classification outcomes and membership in a group.** In this case, the quantity of interest is the absolute difference of postive classification outcomes between a given group and all others.\n",
    "    $$Q_{disp}^\\mathcal{Y} (\\cdot)  = | \\mathbb{E}(c(\\cdot) = 1 | X \\in \\mathcal{Y}) -  \\mathbb{E}(c(\\cdot) = 1 | X \\notin \\mathcal{Y})|$$\n",
    "    \n",
    "    We can thus define the QII as: \n",
    "    $$\\iota_{disp}^{\\mathcal{Y}}(i) = Q_{disp}^{\\mathcal{Y}} (X) - Q_{disp}^{\\mathcal{Y}} (X_{-i}U_i)$$\n",
    "    \n",
    " \n",
    "#### Set and Marginal QII\n",
    "\n",
    "In the overwhelming majority of real datasets, it is impossible to look at the *individual* influence of one feature on an outcome, as it is likely correlated with other features that were included in the decision making process. Thus, if we intervene on only one feature, changes to the outcome will be less likely, as the features correlated with it will still capture some of the feature in question's impact. So if we intervene on sets of features including a given feature, we may get a better understanding of the influence of this feature by looking at its marginal influence.\n",
    "\n",
    "For a quantity of interest, $Q$, and an input $i$, the QII of input $i$ over a set $S\\subseteq N$ on $Q$ is defined to be\n",
    "\n",
    "$$\\iota^Q(i,S) = Q(X_{-S}U_{S}) - Q(X_{-S\\cup\\{i\\}}U_{S\\cup\\{i\\}})$$ \n",
    "\n",
    "It is clear from the equation that the marginal QII of $i$ is the additional value in transparency achieved by including $i$ in a subset of features.\n",
    "\n",
    "The marginal contribution of $i$ can vary depending on which set $S$ is considered, so we report the aggregate marginal contribution of $i$ to $S$, where S is sampled from some distribution over subsets of features. We use the Shapley value as a measure of this aggregate marginal contribution. This is what we present in transparency reports for an individual."
   ]
  },
  {
   "cell_type": "markdown",
   "metadata": {},
   "source": [
    "## IV. Evaluation and Results"
   ]
  },
  {
   "cell_type": "code",
   "execution_count": null,
   "metadata": {},
   "outputs": [],
   "source": []
  },
  {
   "cell_type": "markdown",
   "metadata": {},
   "source": [
    "## V. Future Work\n",
    "\n",
    "#### Improve classifier performance\n",
    "This problem has been tackled using classifiers that have been minimally tuned. We recognize that the best classification accuracy achieved by any of our models on out-of-sample predictions is 76.3% (SVM), which clearly falls short of perfectly predicting COMPAS scores. Had our goal been to predict COMPAS scores accurately, we would have balanced classes using some synthetic oversampling technique. Further, hyperparameter tuning could also be done to try for better model performance.\n",
    "\n",
    "#### Differentially private releases\n",
    "Given their construction, transparency reports can reveal sensitive information about the all data used to train the decision aiding classifier. We recommend making either the classifiers themselves differentially private (see [Abadi et al.](https://arxiv.org/pdf/1607.00133.pdf) or making the release of transparency reports differentially private by addition of noise. Note that these procedures are computationally expensive for large data, so we leave it as an extension to our QII work."
   ]
  },
  {
   "cell_type": "markdown",
   "metadata": {},
   "source": [
    "___"
   ]
  }
 ],
 "metadata": {
  "celltoolbar": "Edit Metadata",
  "kernelspec": {
   "display_name": "Python 3",
   "language": "python",
   "name": "python3"
  },
  "language_info": {
   "codemirror_mode": {
    "name": "ipython",
    "version": 3
   },
   "file_extension": ".py",
   "mimetype": "text/x-python",
   "name": "python",
   "nbconvert_exporter": "python",
   "pygments_lexer": "ipython3",
   "version": "3.6.7"
  }
 },
 "nbformat": 4,
 "nbformat_minor": 2
}
