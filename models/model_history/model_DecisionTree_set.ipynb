{
 "cells": [
  {
   "cell_type": "markdown",
   "metadata": {},
   "source": [
    "## Decision Tree Classifier\n",
    "\n",
    "**Karina Huang, Lipika Ramaswamy**\n",
    "\n",
    "---"
   ]
  },
  {
   "cell_type": "code",
   "execution_count": 2,
   "metadata": {},
   "outputs": [],
   "source": [
    "import pandas as pd\n",
    "import numpy as np\n",
    "from sklearn.tree import DecisionTreeClassifier\n",
    "from sklearn.metrics import f1_score, accuracy_score\n",
    "from sklearn.model_selection import train_test_split\n",
    "import warnings\n",
    "warnings.filterwarnings(\"ignore\")\n",
    "import os\n",
    "os.chdir('../qii_analysis/')\n",
    "from qii_upd import intervene, random_intervene_point, unary_individual_influence, shapley_influence\n",
    "os.chdir('../models/')\n",
    "pd.set_option('display.max_columns', 500)\n",
    "import seaborn as sns\n",
    "\n",
    "\n",
    "import pickle"
   ]
  },
  {
   "cell_type": "code",
   "execution_count": 3,
   "metadata": {},
   "outputs": [
    {
     "data": {
      "text/html": [
       "<div>\n",
       "<style scoped>\n",
       "    .dataframe tbody tr th:only-of-type {\n",
       "        vertical-align: middle;\n",
       "    }\n",
       "\n",
       "    .dataframe tbody tr th {\n",
       "        vertical-align: top;\n",
       "    }\n",
       "\n",
       "    .dataframe thead th {\n",
       "        text-align: right;\n",
       "    }\n",
       "</style>\n",
       "<table border=\"1\" class=\"dataframe\">\n",
       "  <thead>\n",
       "    <tr style=\"text-align: right;\">\n",
       "      <th></th>\n",
       "      <th>id</th>\n",
       "      <th>sex</th>\n",
       "      <th>age</th>\n",
       "      <th>race</th>\n",
       "      <th>juv_fel_count</th>\n",
       "      <th>juv_misd_count</th>\n",
       "      <th>juv_other_count</th>\n",
       "      <th>priors_count</th>\n",
       "      <th>decile_score</th>\n",
       "      <th>score_text</th>\n",
       "      <th>is_recid</th>\n",
       "      <th>v_decile_score</th>\n",
       "      <th>v_score_text</th>\n",
       "      <th>is_violent_recid</th>\n",
       "      <th>two_year_recid</th>\n",
       "    </tr>\n",
       "  </thead>\n",
       "  <tbody>\n",
       "    <tr>\n",
       "      <th>0</th>\n",
       "      <td>1</td>\n",
       "      <td>Male</td>\n",
       "      <td>69</td>\n",
       "      <td>Other</td>\n",
       "      <td>0</td>\n",
       "      <td>0</td>\n",
       "      <td>0</td>\n",
       "      <td>0</td>\n",
       "      <td>1</td>\n",
       "      <td>Low</td>\n",
       "      <td>0</td>\n",
       "      <td>1</td>\n",
       "      <td>Low</td>\n",
       "      <td>0</td>\n",
       "      <td>0</td>\n",
       "    </tr>\n",
       "    <tr>\n",
       "      <th>1</th>\n",
       "      <td>3</td>\n",
       "      <td>Male</td>\n",
       "      <td>34</td>\n",
       "      <td>African-American</td>\n",
       "      <td>0</td>\n",
       "      <td>0</td>\n",
       "      <td>0</td>\n",
       "      <td>0</td>\n",
       "      <td>3</td>\n",
       "      <td>Low</td>\n",
       "      <td>1</td>\n",
       "      <td>1</td>\n",
       "      <td>Low</td>\n",
       "      <td>1</td>\n",
       "      <td>1</td>\n",
       "    </tr>\n",
       "    <tr>\n",
       "      <th>2</th>\n",
       "      <td>4</td>\n",
       "      <td>Male</td>\n",
       "      <td>24</td>\n",
       "      <td>African-American</td>\n",
       "      <td>0</td>\n",
       "      <td>0</td>\n",
       "      <td>1</td>\n",
       "      <td>4</td>\n",
       "      <td>4</td>\n",
       "      <td>Low</td>\n",
       "      <td>1</td>\n",
       "      <td>3</td>\n",
       "      <td>Low</td>\n",
       "      <td>0</td>\n",
       "      <td>1</td>\n",
       "    </tr>\n",
       "    <tr>\n",
       "      <th>3</th>\n",
       "      <td>5</td>\n",
       "      <td>Male</td>\n",
       "      <td>23</td>\n",
       "      <td>African-American</td>\n",
       "      <td>0</td>\n",
       "      <td>1</td>\n",
       "      <td>0</td>\n",
       "      <td>1</td>\n",
       "      <td>8</td>\n",
       "      <td>High</td>\n",
       "      <td>0</td>\n",
       "      <td>6</td>\n",
       "      <td>Medium</td>\n",
       "      <td>0</td>\n",
       "      <td>0</td>\n",
       "    </tr>\n",
       "    <tr>\n",
       "      <th>4</th>\n",
       "      <td>6</td>\n",
       "      <td>Male</td>\n",
       "      <td>43</td>\n",
       "      <td>Other</td>\n",
       "      <td>0</td>\n",
       "      <td>0</td>\n",
       "      <td>0</td>\n",
       "      <td>2</td>\n",
       "      <td>1</td>\n",
       "      <td>Low</td>\n",
       "      <td>0</td>\n",
       "      <td>1</td>\n",
       "      <td>Low</td>\n",
       "      <td>0</td>\n",
       "      <td>0</td>\n",
       "    </tr>\n",
       "  </tbody>\n",
       "</table>\n",
       "</div>"
      ],
      "text/plain": [
       "   id   sex  age              race  juv_fel_count  juv_misd_count  \\\n",
       "0   1  Male   69             Other              0               0   \n",
       "1   3  Male   34  African-American              0               0   \n",
       "2   4  Male   24  African-American              0               0   \n",
       "3   5  Male   23  African-American              0               1   \n",
       "4   6  Male   43             Other              0               0   \n",
       "\n",
       "   juv_other_count  priors_count  decile_score score_text  is_recid  \\\n",
       "0                0             0             1        Low         0   \n",
       "1                0             0             3        Low         1   \n",
       "2                1             4             4        Low         1   \n",
       "3                0             1             8       High         0   \n",
       "4                0             2             1        Low         0   \n",
       "\n",
       "   v_decile_score v_score_text  is_violent_recid  two_year_recid  \n",
       "0               1          Low                 0               0  \n",
       "1               1          Low                 1               1  \n",
       "2               3          Low                 0               1  \n",
       "3               6       Medium                 0               0  \n",
       "4               1          Low                 0               0  "
      ]
     },
     "execution_count": 3,
     "metadata": {},
     "output_type": "execute_result"
    }
   ],
   "source": [
    "data = pd.read_csv('../data/data_final.csv', index_col = ['Unnamed: 0'])\n",
    "#check data\n",
    "data.head()"
   ]
  },
  {
   "cell_type": "code",
   "execution_count": 4,
   "metadata": {},
   "outputs": [
    {
     "data": {
      "text/plain": [
       "(7214, 15)"
      ]
     },
     "execution_count": 4,
     "metadata": {},
     "output_type": "execute_result"
    }
   ],
   "source": [
    "data.shape"
   ]
  },
  {
   "cell_type": "code",
   "execution_count": 4,
   "metadata": {},
   "outputs": [],
   "source": [
    "#get dummy variables\n",
    "data_new = pd.get_dummies(data, columns = ['sex', 'race'])"
   ]
  },
  {
   "cell_type": "code",
   "execution_count": 5,
   "metadata": {},
   "outputs": [],
   "source": [
    "#set predictor and response columns\n",
    "predictors = ['age', 'juv_misd_count', 'priors_count', 'sex_Female', \n",
    "              'sex_Male', 'race_African-American', 'race_Asian', \n",
    "              'race_Caucasian', 'race_Hispanic', 'race_Native American', 'race_Other']\n",
    "# genR = ['decile_score']\n",
    "genR = ['score_text']\n",
    "# vR = ['v_decile_score']\n",
    "vR = ['v_score_text']"
   ]
  },
  {
   "cell_type": "code",
   "execution_count": 6,
   "metadata": {},
   "outputs": [],
   "source": [
    "#train test split data \n",
    "train, test = train_test_split(data_new, test_size = 0.20, random_state = 221)"
   ]
  },
  {
   "cell_type": "code",
   "execution_count": 7,
   "metadata": {},
   "outputs": [
    {
     "data": {
      "text/html": [
       "<div>\n",
       "<style scoped>\n",
       "    .dataframe tbody tr th:only-of-type {\n",
       "        vertical-align: middle;\n",
       "    }\n",
       "\n",
       "    .dataframe tbody tr th {\n",
       "        vertical-align: top;\n",
       "    }\n",
       "\n",
       "    .dataframe thead th {\n",
       "        text-align: right;\n",
       "    }\n",
       "</style>\n",
       "<table border=\"1\" class=\"dataframe\">\n",
       "  <thead>\n",
       "    <tr style=\"text-align: right;\">\n",
       "      <th></th>\n",
       "      <th>id</th>\n",
       "      <th>age</th>\n",
       "      <th>juv_fel_count</th>\n",
       "      <th>juv_misd_count</th>\n",
       "      <th>juv_other_count</th>\n",
       "      <th>priors_count</th>\n",
       "      <th>decile_score</th>\n",
       "      <th>score_text</th>\n",
       "      <th>is_recid</th>\n",
       "      <th>v_decile_score</th>\n",
       "      <th>v_score_text</th>\n",
       "      <th>is_violent_recid</th>\n",
       "      <th>two_year_recid</th>\n",
       "      <th>sex_Female</th>\n",
       "      <th>sex_Male</th>\n",
       "      <th>race_African-American</th>\n",
       "      <th>race_Asian</th>\n",
       "      <th>race_Caucasian</th>\n",
       "      <th>race_Hispanic</th>\n",
       "      <th>race_Native American</th>\n",
       "      <th>race_Other</th>\n",
       "    </tr>\n",
       "  </thead>\n",
       "  <tbody>\n",
       "    <tr>\n",
       "      <th>2727</th>\n",
       "      <td>4162</td>\n",
       "      <td>25</td>\n",
       "      <td>4</td>\n",
       "      <td>0</td>\n",
       "      <td>0</td>\n",
       "      <td>13</td>\n",
       "      <td>10</td>\n",
       "      <td>High</td>\n",
       "      <td>1</td>\n",
       "      <td>9</td>\n",
       "      <td>High</td>\n",
       "      <td>0</td>\n",
       "      <td>1</td>\n",
       "      <td>0</td>\n",
       "      <td>1</td>\n",
       "      <td>1</td>\n",
       "      <td>0</td>\n",
       "      <td>0</td>\n",
       "      <td>0</td>\n",
       "      <td>0</td>\n",
       "      <td>0</td>\n",
       "    </tr>\n",
       "    <tr>\n",
       "      <th>1298</th>\n",
       "      <td>1987</td>\n",
       "      <td>54</td>\n",
       "      <td>0</td>\n",
       "      <td>0</td>\n",
       "      <td>0</td>\n",
       "      <td>4</td>\n",
       "      <td>2</td>\n",
       "      <td>Low</td>\n",
       "      <td>0</td>\n",
       "      <td>1</td>\n",
       "      <td>Low</td>\n",
       "      <td>0</td>\n",
       "      <td>0</td>\n",
       "      <td>0</td>\n",
       "      <td>1</td>\n",
       "      <td>0</td>\n",
       "      <td>0</td>\n",
       "      <td>1</td>\n",
       "      <td>0</td>\n",
       "      <td>0</td>\n",
       "      <td>0</td>\n",
       "    </tr>\n",
       "    <tr>\n",
       "      <th>3234</th>\n",
       "      <td>4948</td>\n",
       "      <td>29</td>\n",
       "      <td>0</td>\n",
       "      <td>0</td>\n",
       "      <td>0</td>\n",
       "      <td>1</td>\n",
       "      <td>4</td>\n",
       "      <td>Low</td>\n",
       "      <td>0</td>\n",
       "      <td>2</td>\n",
       "      <td>Low</td>\n",
       "      <td>0</td>\n",
       "      <td>0</td>\n",
       "      <td>0</td>\n",
       "      <td>1</td>\n",
       "      <td>0</td>\n",
       "      <td>0</td>\n",
       "      <td>1</td>\n",
       "      <td>0</td>\n",
       "      <td>0</td>\n",
       "      <td>0</td>\n",
       "    </tr>\n",
       "    <tr>\n",
       "      <th>4956</th>\n",
       "      <td>7546</td>\n",
       "      <td>21</td>\n",
       "      <td>1</td>\n",
       "      <td>0</td>\n",
       "      <td>3</td>\n",
       "      <td>2</td>\n",
       "      <td>10</td>\n",
       "      <td>High</td>\n",
       "      <td>1</td>\n",
       "      <td>8</td>\n",
       "      <td>High</td>\n",
       "      <td>0</td>\n",
       "      <td>0</td>\n",
       "      <td>0</td>\n",
       "      <td>1</td>\n",
       "      <td>0</td>\n",
       "      <td>0</td>\n",
       "      <td>1</td>\n",
       "      <td>0</td>\n",
       "      <td>0</td>\n",
       "      <td>0</td>\n",
       "    </tr>\n",
       "    <tr>\n",
       "      <th>1828</th>\n",
       "      <td>2771</td>\n",
       "      <td>37</td>\n",
       "      <td>0</td>\n",
       "      <td>0</td>\n",
       "      <td>0</td>\n",
       "      <td>3</td>\n",
       "      <td>1</td>\n",
       "      <td>Low</td>\n",
       "      <td>0</td>\n",
       "      <td>1</td>\n",
       "      <td>Low</td>\n",
       "      <td>0</td>\n",
       "      <td>0</td>\n",
       "      <td>0</td>\n",
       "      <td>1</td>\n",
       "      <td>0</td>\n",
       "      <td>0</td>\n",
       "      <td>1</td>\n",
       "      <td>0</td>\n",
       "      <td>0</td>\n",
       "      <td>0</td>\n",
       "    </tr>\n",
       "  </tbody>\n",
       "</table>\n",
       "</div>"
      ],
      "text/plain": [
       "        id  age  juv_fel_count  juv_misd_count  juv_other_count  priors_count  \\\n",
       "2727  4162   25              4               0                0            13   \n",
       "1298  1987   54              0               0                0             4   \n",
       "3234  4948   29              0               0                0             1   \n",
       "4956  7546   21              1               0                3             2   \n",
       "1828  2771   37              0               0                0             3   \n",
       "\n",
       "      decile_score score_text  is_recid  v_decile_score v_score_text  \\\n",
       "2727            10       High         1               9         High   \n",
       "1298             2        Low         0               1          Low   \n",
       "3234             4        Low         0               2          Low   \n",
       "4956            10       High         1               8         High   \n",
       "1828             1        Low         0               1          Low   \n",
       "\n",
       "      is_violent_recid  two_year_recid  sex_Female  sex_Male  \\\n",
       "2727                 0               1           0         1   \n",
       "1298                 0               0           0         1   \n",
       "3234                 0               0           0         1   \n",
       "4956                 0               0           0         1   \n",
       "1828                 0               0           0         1   \n",
       "\n",
       "      race_African-American  race_Asian  race_Caucasian  race_Hispanic  \\\n",
       "2727                      1           0               0              0   \n",
       "1298                      0           0               1              0   \n",
       "3234                      0           0               1              0   \n",
       "4956                      0           0               1              0   \n",
       "1828                      0           0               1              0   \n",
       "\n",
       "      race_Native American  race_Other  \n",
       "2727                     0           0  \n",
       "1298                     0           0  \n",
       "3234                     0           0  \n",
       "4956                     0           0  \n",
       "1828                     0           0  "
      ]
     },
     "execution_count": 7,
     "metadata": {},
     "output_type": "execute_result"
    }
   ],
   "source": [
    "test.head()"
   ]
  },
  {
   "cell_type": "code",
   "execution_count": 8,
   "metadata": {},
   "outputs": [],
   "source": [
    "def getXY(df, pred, resp):\n",
    "    \n",
    "    X = df[pred]\n",
    "    Y = df[resp]\n",
    "    \n",
    "    return X, Y\n",
    "\n",
    "def getModel(df, pred, resp):\n",
    "    \n",
    "    m = DecisionTreeClassifier(random_state = 221)\n",
    "    x, y = getXY(df, pred, resp)\n",
    "    m.fit(x, y)\n",
    "    \n",
    "    return m"
   ]
  },
  {
   "cell_type": "code",
   "execution_count": 9,
   "metadata": {},
   "outputs": [],
   "source": [
    "#model for general decile score\n",
    "mG = getModel(train, predictors, genR)\n",
    "#model for violence decile score\n",
    "mV = getModel(train, predictors, vR)"
   ]
  },
  {
   "cell_type": "code",
   "execution_count": 10,
   "metadata": {},
   "outputs": [],
   "source": [
    "#get test predictions\n",
    "test_predG = mG.predict(getXY(test, predictors, genR)[0])\n",
    "test_predV = mV.predict(getXY(test, predictors, genR)[0])\n",
    "\n",
    "#get training predictions\n",
    "train_predG = mG.predict(getXY(train, predictors, vR)[0])\n",
    "train_predV = mV.predict(getXY(train, predictors, vR)[0])"
   ]
  },
  {
   "cell_type": "code",
   "execution_count": 11,
   "metadata": {},
   "outputs": [
    {
     "name": "stdout",
     "output_type": "stream",
     "text": [
      "Training Prediction Accuracy Score: \n",
      "General Decile Score:  0.767631259747011\n",
      "Violence Decile Score:  0.8400623808698666\n",
      "\n",
      "Test Prediction Accuracy Score: \n",
      "General Decile Score:  0.5876645876645876\n",
      "Violence Decile Score:  0.7172557172557172\n"
     ]
    }
   ],
   "source": [
    "#get test prediction accuracy scores\n",
    "test_accG = accuracy_score(getXY(test, predictors, genR)[1], test_predG)\n",
    "test_accV = accuracy_score(getXY(test, predictors, vR)[1], test_predV)\n",
    "\n",
    "#get training prediction accuracy scores\n",
    "train_accG = accuracy_score(getXY(train, predictors, genR)[1], train_predG)\n",
    "train_accV = accuracy_score(getXY(train, predictors, vR)[1], train_predV)\n",
    "\n",
    "print('Training Prediction Accuracy Score: ')\n",
    "print('General Decile Score: ', train_accG)\n",
    "print('Violence Decile Score: ', train_accV)\n",
    "print()\n",
    "print('Test Prediction Accuracy Score: ')\n",
    "print('General Decile Score: ', test_accG)\n",
    "print('Violence Decile Score: ', test_accV)"
   ]
  },
  {
   "cell_type": "code",
   "execution_count": 14,
   "metadata": {},
   "outputs": [
    {
     "name": "stdout",
     "output_type": "stream",
     "text": [
      "Training Prediction F1 Score: \n",
      "General Decile Score:  0.7572771651668888\n",
      "Violence Decile Score:  0.8325964921486614\n",
      "\n",
      "Test Prediction F1 Score: \n",
      "General Decile Score:  0.5665028989679454\n",
      "Violence Decile Score:  0.7062823700211605\n"
     ]
    }
   ],
   "source": [
    "#get test prediction f1 scores\n",
    "test_f1G = f1_score(getXY(test, predictors, genR)[1], test_predG, average = 'weighted')\n",
    "test_f1V = f1_score(getXY(test, predictors, vR)[1], test_predV, average = 'weighted')\n",
    "\n",
    "#get training prediction f1 scores\n",
    "train_f1G = f1_score(getXY(train, predictors, genR)[1], train_predG, average = 'weighted')\n",
    "train_f1V = f1_score(getXY(train, predictors, vR)[1], train_predV, average = 'weighted')\n",
    "\n",
    "print('Training Prediction F1 Score: ')\n",
    "print('General Decile Score: ', train_f1G)\n",
    "print('Violence Decile Score: ', train_f1V)\n",
    "print()\n",
    "print('Test Prediction F1 Score: ')\n",
    "print('General Decile Score: ', test_f1G)\n",
    "print('Violence Decile Score: ', test_f1V)"
   ]
  },
  {
   "cell_type": "markdown",
   "metadata": {},
   "source": [
    "## QIIs"
   ]
  },
  {
   "cell_type": "markdown",
   "metadata": {},
   "source": [
    "### QII for individual outcomes"
   ]
  },
  {
   "cell_type": "markdown",
   "metadata": {},
   "source": [
    "Below we illustrate the use of unary QII measures to get the average QII measure computed for features in the COMPAS dataset. The average QII measure is computed using the following equation: \n",
    "\n",
    "Given an algorithm $\\mathcal{A}$ that operates on inputs (features), $\\mathcal{N} = \\{1, \\ldots, n\\}$. Every $i\\in\\mathcal{N}$ can take on various states given by $X_i$.\n",
    "\n",
    "Let $ X = \\Pi_{i\\in\\mathcal{N}} X_i$ be the set of possible feature state vectors, let $\\mathcal{Z}$ be the set of possible outputs $\\mathcal{A}$. \n",
    "\n",
    "Let the quantity of interest be the classification outcome for a particular individual. \n",
    "\n",
    "The probability that the feature $i$ is pivotal to the classification $c(\\mathbf{x})$ of an individual is given by $\\mathbb{E}(i\\text{ is pivotal for }c(X)|X=\\mathbf{x})$.\n",
    "\n",
    "Computing the average of this quantity over the entire dataset yields:\n",
    "\n",
    "$$ \\mathbb{E}(i\\text{ is pivotal for }c(X)) = \\sum_{\\mathbf{x}\\in X} Pr(X=x) \\cdot \\mathbb{E}(i\\text{ is pivotal for }c(X)|X=\\mathbf{x})$$\n",
    "\n"
   ]
  },
  {
   "cell_type": "markdown",
   "metadata": {},
   "source": [
    "$$\\iota_{disp}^{\\mathcal{Y}}(i) = Q_{disp}^{\\mathcal{Y}} (X) - Q_{disp}^{\\mathcal{Y}} (X_{-i}U_i)$$"
   ]
  },
  {
   "cell_type": "code",
   "execution_count": 15,
   "metadata": {},
   "outputs": [
    {
     "data": {
      "text/plain": [
       "{'priors_count': 0.02494802494802495}"
      ]
     },
     "execution_count": 15,
     "metadata": {},
     "output_type": "execute_result"
    }
   ],
   "source": [
    "unary_individual_influence(dataset = test, \n",
    "                           cls = mV, \n",
    "                           x_ind = 4956, \n",
    "                           varList = ['priors_count'], \n",
    "                           binary = [False],\n",
    "                           predictors = predictors)"
   ]
  },
  {
   "cell_type": "code",
   "execution_count": 16,
   "metadata": {},
   "outputs": [],
   "source": [
    "all_indices = list(test.index)\n",
    "# list of values of whether a variable is binary or not \n",
    "binary_vals = [False, False, False, \n",
    "               True, True,\n",
    "               True, True, \n",
    "               True, True, \n",
    "               True, True]"
   ]
  },
  {
   "cell_type": "code",
   "execution_count": 17,
   "metadata": {
    "scrolled": true
   },
   "outputs": [
    {
     "name": "stdout",
     "output_type": "stream",
     "text": [
      "0\n",
      "20\n",
      "40\n",
      "60\n",
      "80\n",
      "100\n",
      "120\n",
      "140\n",
      "160\n",
      "180\n",
      "200\n",
      "220\n",
      "240\n",
      "260\n",
      "280\n",
      "300\n",
      "320\n",
      "340\n",
      "360\n",
      "380\n",
      "400\n",
      "420\n",
      "440\n",
      "460\n",
      "480\n",
      "500\n",
      "520\n",
      "540\n",
      "560\n",
      "580\n",
      "600\n",
      "620\n",
      "640\n",
      "660\n",
      "680\n",
      "700\n",
      "720\n",
      "740\n",
      "760\n",
      "780\n",
      "800\n",
      "820\n",
      "840\n",
      "860\n",
      "880\n",
      "900\n",
      "920\n",
      "940\n",
      "960\n",
      "980\n",
      "1000\n",
      "1020\n",
      "1040\n",
      "1060\n",
      "1080\n",
      "1100\n",
      "1120\n",
      "1140\n",
      "1160\n",
      "1180\n",
      "1200\n",
      "1220\n",
      "1240\n",
      "1260\n",
      "1280\n",
      "1300\n",
      "1320\n",
      "1340\n",
      "1360\n",
      "1380\n",
      "1400\n",
      "1420\n",
      "1440\n"
     ]
    }
   ],
   "source": [
    "all_results = {}\n",
    "for pred in predictors:\n",
    "    all_results[pred] = []\n",
    "\n",
    "for key, ind in enumerate(all_indices):\n",
    "    if key % 20 == 0:\n",
    "        print(key)\n",
    "    evaluate = unary_individual_influence(dataset = test,\n",
    "                                          cls = mV, \n",
    "                                          x_ind = ind, \n",
    "                                          varList = predictors, \n",
    "                                          binary = binary_vals,\n",
    "                                          predictors=predictors)\n",
    "    for pred in predictors:\n",
    "        all_results[pred].append(evaluate[pred])"
   ]
  },
  {
   "cell_type": "code",
   "execution_count": 20,
   "metadata": {},
   "outputs": [],
   "source": [
    "# get_avg\n",
    "mean_ = {}\n",
    "var_ = {}\n",
    "for pred in predictors:\n",
    "    get_all = all_results[pred]\n",
    "    mean_[pred] = np.mean(get_all)\n",
    "    var_[pred] = np.var(get_all)"
   ]
  },
  {
   "cell_type": "code",
   "execution_count": 123,
   "metadata": {},
   "outputs": [],
   "source": [
    "with open('means_individualQ11_modelV.pkl', 'wb') as handle:\n",
    "    pickle.dump(mean_, handle, protocol=pickle.HIGHEST_PROTOCOL)\n",
    "\n",
    "with open('means_individualQ11_modelV.pkl', 'rb') as handle:\n",
    "    mean_ = pickle.load(handle)"
   ]
  },
  {
   "cell_type": "code",
   "execution_count": 270,
   "metadata": {},
   "outputs": [
    {
     "data": {
      "text/plain": [
       "''"
      ]
     },
     "execution_count": 270,
     "metadata": {},
     "output_type": "execute_result"
    },
    {
     "data": {
      "image/png": "[encoded data removed]",
      "text/plain": [
       "<Figure size 720x360 with 1 Axes>"
      ]
     },
     "metadata": {
      "needs_background": "light"
     },
     "output_type": "display_data"
    }
   ],
   "source": [
    "import matplotlib.pyplot as plt\n",
    "labels_predicts = ['Age', 'Juvenile Misdemeanor Count', 'Priors Count', 'Female', 'Male',\n",
    "                'Race: African-American', 'Race: Asian', 'Race: Caucasian', 'Race: Hispanic', \n",
    "                'Race: Native American', 'Race: Other']\n",
    "res = {} \n",
    "for key in predictors: \n",
    "    for value in labels_predicts: \n",
    "        res[key] = value \n",
    "        labels_predicts.remove(value) \n",
    "        break  \n",
    "sorted_x = dict(sorted(mean_.items(), key=lambda mean_: mean_[1]))\n",
    "labs = []\n",
    "for i in range(len(res)):\n",
    "    labs.append(res[list(sorted_x.keys())[i]])\n",
    "\n",
    "plt.figure(figsize=(10,5))\n",
    "y_pos = np.arange(len(sorted_x.keys()))\n",
    "performance = list(sorted_x.values())\n",
    "\n",
    "plt.barh(y_pos, performance, align='center', alpha=0.9, color = 'teal')\n",
    "plt.yticks(y_pos, labs, fontsize = 18)\n",
    "plt.xlabel('QII', fontsize = 18)\n",
    "plt.xticks( fontsize = 18)\n",
    "plt.title('Unary QII on Individual Outcomes', fontsize = 20)\n",
    "plt.tight_layout()\n",
    "\n",
    "# plt.grid(True, lw=1.75, ls='--', alpha=0.2) # thanks bharvz\n",
    "plt.savefig('unaryQIIind.png', dpi = 300)\n",
    ";"
   ]
  },
  {
   "cell_type": "markdown",
   "metadata": {},
   "source": [
    "## Set and Marginal QII\n",
    "\n"
   ]
  },
  {
   "cell_type": "markdown",
   "metadata": {},
   "source": [
    "$\\iota^Q(i,S) = Q(X_{-S}U_{S}) - Q(X_{-S\\cup\\{i\\}}U_{S\\cup\\{i\\}}) $"
   ]
  },
  {
   "cell_type": "code",
   "execution_count": 143,
   "metadata": {},
   "outputs": [],
   "source": [
    "X_test, y_test = getXY(test, predictors, genR)"
   ]
  },
  {
   "cell_type": "code",
   "execution_count": 242,
   "metadata": {},
   "outputs": [],
   "source": [
    "test['preds']= test_predV"
   ]
  },
  {
   "cell_type": "code",
   "execution_count": 253,
   "metadata": {},
   "outputs": [
    {
     "data": {
      "text/html": [
       "<div>\n",
       "<style scoped>\n",
       "    .dataframe tbody tr th:only-of-type {\n",
       "        vertical-align: middle;\n",
       "    }\n",
       "\n",
       "    .dataframe tbody tr th {\n",
       "        vertical-align: top;\n",
       "    }\n",
       "\n",
       "    .dataframe thead th {\n",
       "        text-align: right;\n",
       "    }\n",
       "</style>\n",
       "<table border=\"1\" class=\"dataframe\">\n",
       "  <thead>\n",
       "    <tr style=\"text-align: right;\">\n",
       "      <th></th>\n",
       "      <th>id</th>\n",
       "      <th>age</th>\n",
       "      <th>juv_fel_count</th>\n",
       "      <th>juv_misd_count</th>\n",
       "      <th>juv_other_count</th>\n",
       "      <th>priors_count</th>\n",
       "      <th>decile_score</th>\n",
       "      <th>score_text</th>\n",
       "      <th>is_recid</th>\n",
       "      <th>v_decile_score</th>\n",
       "      <th>v_score_text</th>\n",
       "      <th>is_violent_recid</th>\n",
       "      <th>two_year_recid</th>\n",
       "      <th>sex_Female</th>\n",
       "      <th>sex_Male</th>\n",
       "      <th>race_African-American</th>\n",
       "      <th>race_Asian</th>\n",
       "      <th>race_Caucasian</th>\n",
       "      <th>race_Hispanic</th>\n",
       "      <th>race_Native American</th>\n",
       "      <th>race_Other</th>\n",
       "      <th>preds</th>\n",
       "      <th>preds</th>\n",
       "    </tr>\n",
       "  </thead>\n",
       "  <tbody>\n",
       "    <tr>\n",
       "      <th>158</th>\n",
       "      <td>241</td>\n",
       "      <td>26</td>\n",
       "      <td>0</td>\n",
       "      <td>0</td>\n",
       "      <td>0</td>\n",
       "      <td>2</td>\n",
       "      <td>4</td>\n",
       "      <td>Low</td>\n",
       "      <td>1</td>\n",
       "      <td>4</td>\n",
       "      <td>Low</td>\n",
       "      <td>0</td>\n",
       "      <td>1</td>\n",
       "      <td>1</td>\n",
       "      <td>0</td>\n",
       "      <td>1</td>\n",
       "      <td>0</td>\n",
       "      <td>0</td>\n",
       "      <td>0</td>\n",
       "      <td>0</td>\n",
       "      <td>0</td>\n",
       "      <td>High</td>\n",
       "      <td>High</td>\n",
       "    </tr>\n",
       "  </tbody>\n",
       "</table>\n",
       "</div>"
      ],
      "text/plain": [
       "      id  age  juv_fel_count  juv_misd_count  juv_other_count  priors_count  \\\n",
       "158  241   26              0               0                0             2   \n",
       "\n",
       "     decile_score score_text  is_recid  v_decile_score v_score_text  \\\n",
       "158             4        Low         1               4          Low   \n",
       "\n",
       "     is_violent_recid  two_year_recid  sex_Female  sex_Male  \\\n",
       "158                 0               1           1         0   \n",
       "\n",
       "     race_African-American  race_Asian  race_Caucasian  race_Hispanic  \\\n",
       "158                      1           0               0              0   \n",
       "\n",
       "     race_Native American  race_Other preds  preds  \n",
       "158                     0           0   High  High  "
      ]
     },
     "execution_count": 253,
     "metadata": {},
     "output_type": "execute_result"
    }
   ],
   "source": [
    "test[(test.v_score_text == 'Low')&(test.preds == 'High') & (test.sex_Female == 1)]"
   ]
  },
  {
   "cell_type": "code",
   "execution_count": 257,
   "metadata": {
    "scrolled": false
   },
   "outputs": [],
   "source": [
    "shapley158 = shapley_influence(dataset=X_test, \n",
    "                  cls = mV, \n",
    "                  x_ind = 158, \n",
    "                  X_test = X_test, \n",
    "                  varList = ['juv_misd_count', 'priors_count', 'race_African-American', 'age' , 'sex_Female'], \n",
    "                 predictors = predictors)"
   ]
  },
  {
   "cell_type": "code",
   "execution_count": 258,
   "metadata": {
    "scrolled": true
   },
   "outputs": [
    {
     "data": {
      "text/plain": [
       "{'juv_misd_count': 0.17514999999999975,\n",
       " 'priors_count': 0.19994999999999968,\n",
       " 'race_African-American': 0.16739999999999977,\n",
       " 'age': 0.20304999999999968,\n",
       " 'sex_Female': 0.18444999999999973}"
      ]
     },
     "execution_count": 258,
     "metadata": {},
     "output_type": "execute_result"
    }
   ],
   "source": [
    "shapley158"
   ]
  },
  {
   "cell_type": "code",
   "execution_count": 260,
   "metadata": {},
   "outputs": [],
   "source": [
    "plot_marginal = pd.DataFrame([shapley158.keys(), shapley158.values()]).T\n",
    "plot_marginal.columns = ['Input','QII']\n",
    "\n",
    "# ['Age', 'Juvenile\\nMisdimeanor Count', 'Priors Count', 'Female', 'Male']\n",
    "\n",
    "plt.figure(figsize = (10,5))\n",
    "plt.bar(x = plot_marginal.Input, height = plot_marginal.QII, color = 'teal', alpha = 0.9)\n",
    "plt.xticks(ticks = range(5), labels = ['Juvenile\\nMisdemeanor \\nCount','Priors\\nCount',\n",
    "                                      'Race:\\nAfrican\\nAmerican', 'Age', 'Female'], fontsize = 13)\n",
    "plt.yticks(ticks = list(np.arange(0.15, 0.22, 0.02)),fontsize = 13)\n",
    "plt.ylim((0.15, 0.21), )\n",
    "\n",
    "plt.title('Transparency Report for Ms. X', fontsize = 20)\n",
    "plt.tight_layout()\n",
    "plt.savefig('marginalQIImsX.png', dpi = 300)\n",
    "\n",
    ";"
   ]
  },
  {
   "cell_type": "markdown",
   "metadata": {},
   "source": [
    "---\n"
   ]
  }
 ],
 "metadata": {
  "kernelspec": {
   "display_name": "Python 3",
   "language": "python",
   "name": "python3"
  },
  "language_info": {
   "codemirror_mode": {
    "name": "ipython",
    "version": 3
   },
   "file_extension": ".py",
   "mimetype": "text/x-python",
   "name": "python",
   "nbconvert_exporter": "python",
   "pygments_lexer": "ipython3",
   "version": "3.6.8"
  }
 },
 "nbformat": 4,
 "nbformat_minor": 2
}
