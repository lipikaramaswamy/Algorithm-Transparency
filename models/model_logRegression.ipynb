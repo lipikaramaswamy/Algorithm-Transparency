{
 "cells": [
  {
   "cell_type": "markdown",
   "metadata": {},
   "source": [
    "## Logistic Classifier\n",
    "\n",
    "**Karina Huang, Lipika Ramaswamy**\n",
    "\n",
    "---"
   ]
  },
  {
   "cell_type": "code",
   "execution_count": 2,
   "metadata": {},
   "outputs": [],
   "source": [
    "import pandas as pd\n",
    "import numpy as np\n",
    "from sklearn.linear_model import LogisticRegression, LogisticRegressionCV\n",
    "from sklearn.model_selection import train_test_split\n",
    "from sklearn.metrics import f1_score\n",
    "from sklearn.metrics import accuracy_score\n",
    "import warnings\n",
    "warnings.filterwarnings(\"ignore\")"
   ]
  },
  {
   "cell_type": "code",
   "execution_count": 3,
   "metadata": {},
   "outputs": [
    {
     "data": {
      "text/html": [
       "<div>\n",
       "<style scoped>\n",
       "    .dataframe tbody tr th:only-of-type {\n",
       "        vertical-align: middle;\n",
       "    }\n",
       "\n",
       "    .dataframe tbody tr th {\n",
       "        vertical-align: top;\n",
       "    }\n",
       "\n",
       "    .dataframe thead th {\n",
       "        text-align: right;\n",
       "    }\n",
       "</style>\n",
       "<table border=\"1\" class=\"dataframe\">\n",
       "  <thead>\n",
       "    <tr style=\"text-align: right;\">\n",
       "      <th></th>\n",
       "      <th>id</th>\n",
       "      <th>sex</th>\n",
       "      <th>age</th>\n",
       "      <th>race</th>\n",
       "      <th>juv_fel_count</th>\n",
       "      <th>juv_misd_count</th>\n",
       "      <th>juv_other_count</th>\n",
       "      <th>priors_count</th>\n",
       "      <th>decile_score</th>\n",
       "      <th>score_text</th>\n",
       "      <th>is_recid</th>\n",
       "      <th>v_decile_score</th>\n",
       "      <th>v_score_text</th>\n",
       "      <th>is_violent_recid</th>\n",
       "      <th>two_year_recid</th>\n",
       "    </tr>\n",
       "  </thead>\n",
       "  <tbody>\n",
       "    <tr>\n",
       "      <th>0</th>\n",
       "      <td>1</td>\n",
       "      <td>Male</td>\n",
       "      <td>69</td>\n",
       "      <td>Other</td>\n",
       "      <td>0</td>\n",
       "      <td>0</td>\n",
       "      <td>0</td>\n",
       "      <td>0</td>\n",
       "      <td>1</td>\n",
       "      <td>Low</td>\n",
       "      <td>0</td>\n",
       "      <td>1</td>\n",
       "      <td>Low</td>\n",
       "      <td>0</td>\n",
       "      <td>0</td>\n",
       "    </tr>\n",
       "    <tr>\n",
       "      <th>1</th>\n",
       "      <td>3</td>\n",
       "      <td>Male</td>\n",
       "      <td>34</td>\n",
       "      <td>African-American</td>\n",
       "      <td>0</td>\n",
       "      <td>0</td>\n",
       "      <td>0</td>\n",
       "      <td>0</td>\n",
       "      <td>3</td>\n",
       "      <td>Low</td>\n",
       "      <td>1</td>\n",
       "      <td>1</td>\n",
       "      <td>Low</td>\n",
       "      <td>1</td>\n",
       "      <td>1</td>\n",
       "    </tr>\n",
       "    <tr>\n",
       "      <th>2</th>\n",
       "      <td>4</td>\n",
       "      <td>Male</td>\n",
       "      <td>24</td>\n",
       "      <td>African-American</td>\n",
       "      <td>0</td>\n",
       "      <td>0</td>\n",
       "      <td>1</td>\n",
       "      <td>4</td>\n",
       "      <td>4</td>\n",
       "      <td>Low</td>\n",
       "      <td>1</td>\n",
       "      <td>3</td>\n",
       "      <td>Low</td>\n",
       "      <td>0</td>\n",
       "      <td>1</td>\n",
       "    </tr>\n",
       "    <tr>\n",
       "      <th>3</th>\n",
       "      <td>5</td>\n",
       "      <td>Male</td>\n",
       "      <td>23</td>\n",
       "      <td>African-American</td>\n",
       "      <td>0</td>\n",
       "      <td>1</td>\n",
       "      <td>0</td>\n",
       "      <td>1</td>\n",
       "      <td>8</td>\n",
       "      <td>High</td>\n",
       "      <td>0</td>\n",
       "      <td>6</td>\n",
       "      <td>Medium</td>\n",
       "      <td>0</td>\n",
       "      <td>0</td>\n",
       "    </tr>\n",
       "    <tr>\n",
       "      <th>4</th>\n",
       "      <td>6</td>\n",
       "      <td>Male</td>\n",
       "      <td>43</td>\n",
       "      <td>Other</td>\n",
       "      <td>0</td>\n",
       "      <td>0</td>\n",
       "      <td>0</td>\n",
       "      <td>2</td>\n",
       "      <td>1</td>\n",
       "      <td>Low</td>\n",
       "      <td>0</td>\n",
       "      <td>1</td>\n",
       "      <td>Low</td>\n",
       "      <td>0</td>\n",
       "      <td>0</td>\n",
       "    </tr>\n",
       "  </tbody>\n",
       "</table>\n",
       "</div>"
      ],
      "text/plain": [
       "   id   sex  age              race  juv_fel_count  juv_misd_count  \\\n",
       "0   1  Male   69             Other              0               0   \n",
       "1   3  Male   34  African-American              0               0   \n",
       "2   4  Male   24  African-American              0               0   \n",
       "3   5  Male   23  African-American              0               1   \n",
       "4   6  Male   43             Other              0               0   \n",
       "\n",
       "   juv_other_count  priors_count  decile_score score_text  is_recid  \\\n",
       "0                0             0             1        Low         0   \n",
       "1                0             0             3        Low         1   \n",
       "2                1             4             4        Low         1   \n",
       "3                0             1             8       High         0   \n",
       "4                0             2             1        Low         0   \n",
       "\n",
       "   v_decile_score v_score_text  is_violent_recid  two_year_recid  \n",
       "0               1          Low                 0               0  \n",
       "1               1          Low                 1               1  \n",
       "2               3          Low                 0               1  \n",
       "3               6       Medium                 0               0  \n",
       "4               1          Low                 0               0  "
      ]
     },
     "execution_count": 3,
     "metadata": {},
     "output_type": "execute_result"
    }
   ],
   "source": [
    "data = pd.read_csv('data/data_final.csv', index_col = ['Unnamed: 0'])\n",
    "#check data\n",
    "data.head()"
   ]
  },
  {
   "cell_type": "code",
   "execution_count": 6,
   "metadata": {},
   "outputs": [],
   "source": [
    "#get dummy variables\n",
    "data_new = pd.get_dummies(data, columns = ['sex', 'race'])"
   ]
  },
  {
   "cell_type": "code",
   "execution_count": 25,
   "metadata": {},
   "outputs": [],
   "source": [
    "#set predictor and response columns\n",
    "predictors = ['age', 'juv_misd_count', 'priors_count', 'sex_Female', \n",
    "              'sex_Male', 'race_African-American', 'race_Asian', \n",
    "              'race_Caucasian', 'race_Hispanic', 'race_Native American', 'race_Other']\n",
    "# genR = ['decile_score']\n",
    "genR = ['score_text']\n",
    "# vR = ['v_decile_score']\n",
    "vR = ['v_score_text']"
   ]
  },
  {
   "cell_type": "code",
   "execution_count": 26,
   "metadata": {},
   "outputs": [],
   "source": [
    "#train test split data \n",
    "train, test = train_test_split(data_new, test_size = 0.20, random_state = 221)"
   ]
  },
  {
   "cell_type": "code",
   "execution_count": 27,
   "metadata": {},
   "outputs": [],
   "source": [
    "def getModel(df, pred, resp):\n",
    "    m = LogisticRegressionCV(cv = 5, solver = 'newton-cg',random_state = 221)\n",
    "    x, y = getXY(df, pred, resp)\n",
    "    m.fit(x, y)\n",
    "    return m"
   ]
  },
  {
   "cell_type": "code",
   "execution_count": 28,
   "metadata": {},
   "outputs": [],
   "source": [
    "def getXY(df, pred, resp):\n",
    "    \n",
    "    X = df[pred]\n",
    "    Y = df[resp]\n",
    "    \n",
    "    return X, Y"
   ]
  },
  {
   "cell_type": "code",
   "execution_count": 29,
   "metadata": {},
   "outputs": [],
   "source": [
    "#model for general decile score\n",
    "mG = getModel(train, predictors, genR)\n",
    "#model for violence decile score\n",
    "mV = getModel(train, predictors, vR)"
   ]
  },
  {
   "cell_type": "code",
   "execution_count": 30,
   "metadata": {},
   "outputs": [],
   "source": [
    "#get test predictions\n",
    "test_predG = mG.predict(getXY(test, predictors, genR)[0])\n",
    "test_predV = mV.predict(getXY(test, predictors, genR)[0])\n",
    "\n",
    "#get training predictions\n",
    "train_predG = mG.predict(getXY(train, predictors, vR)[0])\n",
    "train_predV = mV.predict(getXY(train, predictors, vR)[0])"
   ]
  },
  {
   "cell_type": "code",
   "execution_count": 31,
   "metadata": {},
   "outputs": [
    {
     "name": "stdout",
     "output_type": "stream",
     "text": [
      "Training Prediction Accuracy Score: \n",
      "General Decile Score:  0.6303933460405475\n",
      "Violence Decile Score:  0.7244844914226304\n",
      "\n",
      "Test Prediction Accuracy Score: \n",
      "General Decile Score:  0.6160776160776161\n",
      "Violence Decile Score:  0.7331947331947332\n"
     ]
    }
   ],
   "source": [
    "#get test prediction accuracy scores\n",
    "test_accG = accuracy_score(getXY(test, predictors, genR)[1], test_predG)\n",
    "test_accV = accuracy_score(getXY(test, predictors, vR)[1], test_predV)\n",
    "\n",
    "#get training prediction accuracy scores\n",
    "train_accG = accuracy_score(getXY(train, predictors, genR)[1], train_predG)\n",
    "train_accV = accuracy_score(getXY(train, predictors, vR)[1], train_predV)\n",
    "\n",
    "print('Training Prediction Accuracy Score: ')\n",
    "print('General Decile Score: ', train_accG)\n",
    "print('Violence Decile Score: ', train_accV)\n",
    "print()\n",
    "print('Test Prediction Accuracy Score: ')\n",
    "print('General Decile Score: ', test_accG)\n",
    "print('Violence Decile Score: ', test_accV)"
   ]
  },
  {
   "cell_type": "code",
   "execution_count": 32,
   "metadata": {},
   "outputs": [
    {
     "name": "stdout",
     "output_type": "stream",
     "text": [
      "Training Prediction F1 Score: \n",
      "General Decile Score:  0.5526109872634061\n",
      "Violence Decile Score:  0.6681618897704493\n",
      "\n",
      "Test Prediction F1 Score: \n",
      "General Decile Score:  0.531584603113242\n",
      "Violence Decile Score:  0.6758784709760625\n"
     ]
    }
   ],
   "source": [
    "#get test prediction f1 scores\n",
    "test_f1G = f1_score(getXY(test, predictors, genR)[1], test_predG, average = 'weighted')\n",
    "test_f1V = f1_score(getXY(test, predictors, vR)[1], test_predV, average = 'weighted')\n",
    "\n",
    "#get training prediction f1 scores\n",
    "train_f1G = f1_score(getXY(train, predictors, genR)[1], train_predG, average = 'weighted')\n",
    "train_f1V = f1_score(getXY(train, predictors, vR)[1], train_predV, average = 'weighted')\n",
    "\n",
    "print('Training Prediction F1 Score: ')\n",
    "print('General Decile Score: ', train_f1G)\n",
    "print('Violence Decile Score: ', train_f1V)\n",
    "print()\n",
    "print('Test Prediction F1 Score: ')\n",
    "print('General Decile Score: ', test_f1G)\n",
    "print('Violence Decile Score: ', test_f1V)"
   ]
  }
 ],
 "metadata": {
  "kernelspec": {
   "display_name": "Python 3",
   "language": "python",
   "name": "python3"
  },
  "language_info": {
   "codemirror_mode": {
    "name": "ipython",
    "version": 3
   },
   "file_extension": ".py",
   "mimetype": "text/x-python",
   "name": "python",
   "nbconvert_exporter": "python",
   "pygments_lexer": "ipython3",
   "version": "3.6.8"
  }
 },
 "nbformat": 4,
 "nbformat_minor": 2
}
